{
 "cells": [
  {
   "cell_type": "markdown",
   "metadata": {},
   "source": [
    "# Chatfield Graph Visualization Examples\n",
    "\n",
    "This notebook demonstrates how to visualize the LangGraph workflows that power Chatfield's Socratic dialogues.\n",
    "\n",
    "## Setup\n",
    "\n",
    "First, make sure you have the visualization dependencies installed:\n",
    "\n",
    "```bash\n",
    "pip install chatfield[notebook]\n",
    "# or\n",
    "pip install chatfield[visualization]\n",
    "```"
   ]
  },
  {
   "cell_type": "code",
   "execution_count": null,
   "metadata": {},
   "outputs": [],
   "source": [
    "# Import required libraries\n",
    "import os\n",
    "from IPython.display import Image, display\n",
    "import chatfield\n",
    "from chatfield import (\n",
    "    gather, must, reject, hint, user, agent,\n",
    "    get_agent_graph, get_graph_from_class, \n",
    "    visualize_graph, display_graph_in_notebook,\n",
    "    process_socrates_class\n",
    ")\n",
    "\n",
    "# Set your OpenAI API key if not already set\n",
    "# os.environ['OPENAI_API_KEY'] = 'your-api-key-here'\n",
    "\n",
    "print(f\"Chatfield version: {chatfield.__version__}\")"
   ]
  },
  {
   "cell_type": "markdown",
   "metadata": {},
   "source": [
    "## Example 1: Simple Form Graph\n",
    "\n",
    "Let's start with a simple form that collects basic information:"
   ]
  },
  {
   "cell_type": "code",
   "execution_count": null,
   "metadata": {},
   "outputs": [],
   "source": [
    "@gather\n",
    "class SimpleForm:\n",
    "    \"\"\"A simple contact form.\"\"\"\n",
    "    \n",
    "    def name():\n",
    "        \"\"\"What is your name?\"\"\"\n",
    "        pass\n",
    "    \n",
    "    def email():\n",
    "        \"\"\"What is your email address?\"\"\"\n",
    "        pass\n",
    "    \n",
    "    def message():\n",
    "        \"\"\"What message would you like to send?\"\"\"\n",
    "        pass"
   ]
  },
  {
   "cell_type": "code",
   "execution_count": null,
   "metadata": {},
   "outputs": [],
   "source": [
    "# Extract the metadata and create the graph\n",
    "simple_meta = process_socrates_class(SimpleForm)\n",
    "simple_graph = get_agent_graph(simple_meta)\n",
    "\n",
    "# Visualize the graph\n",
    "print(\"Simple Form Workflow:\")\n",
    "display(Image(simple_graph.get_graph().draw_mermaid_png()))"
   ]
  },
  {
   "cell_type": "markdown",
   "metadata": {},
   "source": [
    "## Example 2: Form with Validation Rules\n",
    "\n",
    "Now let's create a more complex form with validation rules:"
   ]
  },
  {
   "cell_type": "code",
   "execution_count": null,
   "metadata": {},
   "outputs": [],
   "source": [
    "@gather\n",
    "@user(\"A startup founder seeking investment\")\n",
    "@agent(\"Be encouraging but thorough in gathering details\")\n",
    "class StartupPitchForm:\n",
    "    \"\"\"Help me understand your startup idea so I can help you craft a compelling pitch.\"\"\"\n",
    "    \n",
    "    @hint(\"What problem are you solving?\")\n",
    "    @must(\"specific problem\")\n",
    "    @must(\"target audience\")\n",
    "    def problem():\n",
    "        \"\"\"Describe the problem your startup solves\"\"\"\n",
    "        pass\n",
    "    \n",
    "    @hint(\"How does your product work?\")\n",
    "    @must(\"clear explanation\")\n",
    "    @reject(\"vague descriptions\")\n",
    "    def solution():\n",
    "        \"\"\"Explain your solution\"\"\"\n",
    "        pass\n",
    "    \n",
    "    @hint(\"What makes you different?\")\n",
    "    @must(\"competitive advantage\")\n",
    "    def differentiation():\n",
    "        \"\"\"What makes your solution unique?\"\"\"\n",
    "        pass\n",
    "    \n",
    "    @hint(\"How will you make money?\")\n",
    "    @must(\"revenue model\")\n",
    "    @reject(\"we'll figure it out later\")\n",
    "    def business_model():\n",
    "        \"\"\"Describe your business model\"\"\"\n",
    "        pass"
   ]
  },
  {
   "cell_type": "code",
   "execution_count": null,
   "metadata": {},
   "outputs": [],
   "source": [
    "# Create and visualize the graph with validation\n",
    "startup_graph = get_graph_from_class(StartupPitchForm)\n",
    "\n",
    "print(\"Startup Pitch Form Workflow (with validation):\")\n",
    "display(Image(startup_graph.get_graph().draw_mermaid_png()))"
   ]
  },
  {
   "cell_type": "markdown",
   "metadata": {},
   "source": [
    "## Example 3: Using the Convenience Functions\n",
    "\n",
    "Chatfield provides several convenience functions for working with graphs:"
   ]
  },
  {
   "cell_type": "code",
   "execution_count": null,
   "metadata": {},
   "outputs": [],
   "source": [
    "@gather\n",
    "class CustomerFeedback:\n",
    "    \"\"\"Help us improve our service with your feedback.\"\"\"\n",
    "    \n",
    "    @hint(\"What did you use our service for?\")\n",
    "    def use_case():\n",
    "        \"\"\"What brought you to our service today?\"\"\"\n",
    "        pass\n",
    "    \n",
    "    @must(\"specific feedback\")\n",
    "    @hint(\"Be as detailed as possible\")\n",
    "    def experience():\n",
    "        \"\"\"How was your experience?\"\"\"\n",
    "        pass\n",
    "    \n",
    "    def suggestions():\n",
    "        \"\"\"Any suggestions for improvement?\"\"\"\n",
    "        pass"
   ]
  },
  {
   "cell_type": "code",
   "execution_count": null,
   "metadata": {},
   "outputs": [],
   "source": [
    "# Method 1: Direct visualization in notebook\n",
    "feedback_graph = get_graph_from_class(CustomerFeedback)\n",
    "print(\"Method 1: Using display_graph_in_notebook()\")\n",
    "display_graph_in_notebook(feedback_graph)"
   ]
  },
  {
   "cell_type": "code",
   "execution_count": null,
   "metadata": {},
   "outputs": [],
   "source": [
    "# Method 2: Save to file\n",
    "print(\"Method 2: Saving graph to file\")\n",
    "visualize_graph(feedback_graph, \"customer_feedback_workflow.png\")\n",
    "print(\"Graph saved!\")"
   ]
  },
  {
   "cell_type": "code",
   "execution_count": null,
   "metadata": {},
   "outputs": [],
   "source": [
    "# Method 3: Get graph metadata\n",
    "from chatfield import get_graph_metadata\n",
    "\n",
    "metadata = get_graph_metadata(feedback_graph)\n",
    "print(\"Graph Metadata:\")\n",
    "print(f\"  Nodes: {metadata.get('nodes', [])}\")\n",
    "print(f\"  Number of nodes: {metadata.get('node_count', 0)}\")\n",
    "print(f\"  Number of edges: {metadata.get('edge_count', 0)}\")"
   ]
  },
  {
   "cell_type": "markdown",
   "metadata": {},
   "source": [
    "## Example 4: Complex Workflow with Multiple Validation Rules\n",
    "\n",
    "Let's create a more complex example that shows how the graph changes with different validation rules:"
   ]
  },
  {
   "cell_type": "code",
   "execution_count": null,
   "metadata": {},
   "outputs": [],
   "source": [
    "@gather\n",
    "@user(\"Someone reporting a technical issue\")\n",
    "@agent(\"Be patient and thorough in gathering diagnostic information\")\n",
    "class BugReport:\n",
    "    \"\"\"Help me understand the issue you're experiencing so we can fix it quickly.\"\"\"\n",
    "    \n",
    "    @must(\"specific description\")\n",
    "    @must(\"when it occurs\")\n",
    "    @reject(\"it doesn't work\")\n",
    "    @hint(\"What exactly happens? When does it occur?\")\n",
    "    def issue_description():\n",
    "        \"\"\"Describe the issue you're experiencing\"\"\"\n",
    "        pass\n",
    "    \n",
    "    @must(\"steps to reproduce\")\n",
    "    @hint(\"Walk me through what you did before the issue occurred\")\n",
    "    def reproduction_steps():\n",
    "        \"\"\"How can we reproduce this issue?\"\"\"\n",
    "        pass\n",
    "    \n",
    "    @must(\"expected behavior\")\n",
    "    @must(\"actual behavior\")  \n",
    "    def expected_vs_actual():\n",
    "        \"\"\"What did you expect to happen vs what actually happened?\"\"\"\n",
    "        pass\n",
    "    \n",
    "    @hint(\"Browser, OS, app version, etc.\")\n",
    "    def environment():\n",
    "        \"\"\"What system/environment are you using?\"\"\"\n",
    "        pass\n",
    "    \n",
    "    def additional_info():\n",
    "        \"\"\"Any other relevant information?\"\"\"\n",
    "        pass"
   ]
  },
  {
   "cell_type": "code",
   "execution_count": null,
   "metadata": {},
   "outputs": [],
   "source": [
    "# Visualize the complex workflow\n",
    "bug_meta = process_socrates_class(BugReport)\n",
    "bug_graph = get_agent_graph(bug_meta, max_retries=5)  # Allow more retries for complex validation\n",
    "\n",
    "print(\"Bug Report Workflow (complex validation):\")\n",
    "display(Image(bug_graph.get_graph().draw_mermaid_png()))\n",
    "\n",
    "# Show field information\n",
    "print(\"\\nField Information:\")\n",
    "for field_name, field in bug_meta.fields.items():\n",
    "    print(f\"\\n{field_name}:\")\n",
    "    print(f\"  Description: {field.description}\")\n",
    "    if field.must_rules:\n",
    "        print(f\"  Must include: {', '.join(field.must_rules)}\")\n",
    "    if field.reject_rules:\n",
    "        print(f\"  Must not include: {', '.join(field.reject_rules)}\")\n",
    "    if field.hints:\n",
    "        print(f\"  Hints: {', '.join(field.hints)}\")"
   ]
  },
  {
   "cell_type": "markdown",
   "metadata": {},
   "source": [
    "## Example 5: Comparing Different Graph Configurations\n",
    "\n",
    "Let's see how different configurations affect the graph structure:"
   ]
  },
  {
   "cell_type": "code",
   "execution_count": null,
   "metadata": {},
   "outputs": [],
   "source": [
    "# Create graphs with different retry settings\n",
    "@gather\n",
    "class TestForm:\n",
    "    @must(\"valid email format\")\n",
    "    def email():\n",
    "        \"\"\"Your email address\"\"\"\n",
    "        pass\n",
    "    \n",
    "    @must(\"at least 8 characters\")\n",
    "    def password():\n",
    "        \"\"\"Choose a password\"\"\"\n",
    "        pass\n",
    "\n",
    "test_meta = process_socrates_class(TestForm)\n",
    "\n",
    "# Create graphs with different configurations\n",
    "graph_default = get_agent_graph(test_meta, max_retries=3)\n",
    "graph_strict = get_agent_graph(test_meta, max_retries=1)\n",
    "graph_lenient = get_agent_graph(test_meta, max_retries=10)\n",
    "\n",
    "print(\"Graph with default retries (3):\")\n",
    "display(Image(graph_default.get_graph().draw_mermaid_png()))"
   ]
  },
  {
   "cell_type": "markdown",
   "metadata": {},
   "source": [
    "## Example 6: Accessing Graph Internals\n",
    "\n",
    "For advanced use cases, you can access the graph structure directly:"
   ]
  },
  {
   "cell_type": "code",
   "execution_count": null,
   "metadata": {},
   "outputs": [],
   "source": [
    "from chatfield import ChatfieldAgent\n",
    "\n",
    "@gather  \n",
    "class AdvancedForm:\n",
    "    def field1():\n",
    "        \"\"\"First field\"\"\"\n",
    "        pass\n",
    "    \n",
    "    def field2():\n",
    "        \"\"\"Second field\"\"\"\n",
    "        pass\n",
    "\n",
    "# Create agent and access its graph\n",
    "advanced_meta = process_socrates_class(AdvancedForm)\n",
    "agent = ChatfieldAgent(advanced_meta)\n",
    "\n",
    "# Get the graph and its structure\n",
    "graph = agent.get_graph()\n",
    "structure = agent.get_graph_structure()\n",
    "\n",
    "print(\"Graph Structure Details:\")\n",
    "print(f\"Nodes: {structure['nodes']}\")\n",
    "print(f\"\\nEdges: {structure['edges']}\")\n",
    "print(f\"\\nConditional edges: {structure['conditional_edges']}\")\n",
    "print(f\"\\nEntry point: {structure['entry_point']}\")\n",
    "print(f\"\\nMetadata: {structure['meta']}\")\n",
    "\n",
    "# Visualize\n",
    "print(\"\\nGraph Visualization:\")\n",
    "display(Image(graph.get_graph().draw_mermaid_png()))"
   ]
  },
  {
   "cell_type": "markdown",
   "metadata": {},
   "source": [
    "## Tips for Using Graph Visualization\n",
    "\n",
    "1. **Installation**: Make sure you have the visualization dependencies:\n",
    "   ```bash\n",
    "   pip install chatfield[visualization]\n",
    "   ```\n",
    "\n",
    "2. **Large Graphs**: For forms with many fields, the graph can become complex. Consider breaking down large forms into smaller, focused ones.\n",
    "\n",
    "3. **Debugging**: Use graph visualization to understand the conversation flow and debug issues with field collection.\n",
    "\n",
    "4. **Export**: You can save graphs as PNG files for documentation or sharing:\n",
    "   ```python\n",
    "   visualize_graph(graph, \"my_workflow.png\")\n",
    "   ```\n",
    "\n",
    "5. **Custom LLMs**: You can pass custom LLM instances to control the agent behavior:\n",
    "   ```python\n",
    "   from langchain_openai import ChatOpenAI\n",
    "   llm = ChatOpenAI(model=\"gpt-4\", temperature=0.5)\n",
    "   graph = get_agent_graph(meta, llm=llm)\n",
    "   ```"
   ]
  },
  {
   "cell_type": "markdown",
   "metadata": {},
   "source": [
    "## Conclusion\n",
    "\n",
    "This notebook demonstrated how to:\n",
    "\n",
    "1. Extract and visualize LangGraph workflows from Chatfield forms\n",
    "2. Use different visualization methods (display, save to file, get metadata)\n",
    "3. Understand how validation rules affect the graph structure  \n",
    "4. Access graph internals for advanced use cases\n",
    "\n",
    "The graph visualization helps you understand the conversation flow and can be useful for:\n",
    "- Documentation\n",
    "- Debugging conversation logic\n",
    "- Explaining the system to stakeholders\n",
    "- Optimizing form design"
   ]
  }
 ],
 "metadata": {
  "kernelspec": {
   "display_name": "Python 3",
   "language": "python",
   "name": "python3"
  },
  "language_info": {
   "codemirror_mode": {
    "name": "ipython",
    "version": 3
   },
   "file_extension": ".py",
   "mimetype": "text/x-python",
   "name": "python",
   "nbconvert_exporter": "python",
   "pygments_lexer": "ipython3",
   "version": "3.8.0"
  }
 },
 "nbformat": 4,
 "nbformat_minor": 4
}